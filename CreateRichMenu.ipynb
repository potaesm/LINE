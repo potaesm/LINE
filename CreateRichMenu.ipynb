{
  "nbformat": 4,
  "nbformat_minor": 0,
  "metadata": {
    "colab": {
      "name": "CreateRichMenu.ipynb",
      "provenance": [],
      "collapsed_sections": []
    },
    "kernelspec": {
      "name": "python3",
      "display_name": "Python 3"
    }
  },
  "cells": [
    {
      "cell_type": "code",
      "metadata": {
        "id": "OSK813wLQO3k",
        "colab_type": "code",
        "outputId": "83fed0c1-eb1e-42cc-ab03-7063671dce4b",
        "colab": {
          "base_uri": "https://localhost:8080/",
          "height": 125
        }
      },
      "source": [
        "from google.colab import drive\n",
        "drive.mount('/content/drive', force_remount=True)"
      ],
      "execution_count": 1,
      "outputs": [
        {
          "output_type": "stream",
          "text": [
            "Go to this URL in a browser: https://accounts.google.com/o/oauth2/auth?client_id=947318989803-6bn6qk8qdgf4n4g3pfee6491hc0brc4i.apps.googleusercontent.com&redirect_uri=urn%3aietf%3awg%3aoauth%3a2.0%3aoob&response_type=code&scope=email%20https%3a%2f%2fwww.googleapis.com%2fauth%2fdocs.test%20https%3a%2f%2fwww.googleapis.com%2fauth%2fdrive%20https%3a%2f%2fwww.googleapis.com%2fauth%2fdrive.photos.readonly%20https%3a%2f%2fwww.googleapis.com%2fauth%2fpeopleapi.readonly\n",
            "\n",
            "Enter your authorization code:\n",
            "··········\n",
            "Mounted at /content/drive\n"
          ],
          "name": "stdout"
        }
      ]
    },
    {
      "cell_type": "code",
      "metadata": {
        "id": "2JB4oO_tQkk_",
        "colab_type": "code",
        "colab": {}
      },
      "source": [
        "import os\n",
        "os.chdir('/content/drive/My Drive/Colab Notebooks/LINE')"
      ],
      "execution_count": 0,
      "outputs": []
    },
    {
      "cell_type": "code",
      "metadata": {
        "id": "aSe4Akt1CZkh",
        "colab_type": "code",
        "colab": {}
      },
      "source": [
        "%%capture\n",
        "!pip install pycurl\n",
        "import requests\n",
        "import pycurl"
      ],
      "execution_count": 0,
      "outputs": []
    },
    {
      "cell_type": "code",
      "metadata": {
        "id": "sL2aeYvaRaqS",
        "colab_type": "code",
        "colab": {}
      },
      "source": [
        "channelAccessToken = \"WGeWrHDOMEYnCu0zNEhX4K2v1lryeZdXhv6XBjmA9vAKj3CRlM7llUZ2e+qdi5evAd/A1LGIRmkB4SpdzyU34+HS39GzKryV8KhRFwciIbBfNsvOiiofU1BLee9d3djlnIWvF1qBMdQaQ+7kBoCv3QdB04t89/1O/w1cDnyilFU=\"\n",
        "imagePath = \"RichMenu/richmenu.png\"\n",
        "json = {\n",
        "  \"size\": {\n",
        "    \"width\": 2500,\n",
        "    \"height\": 1686\n",
        "  },\n",
        "  \"selected\": \"true\",\n",
        "  \"name\": \"JOB\",\n",
        "  \"chatBarText\": \"JOB\",\n",
        "  \"areas\": [\n",
        "    {\n",
        "      \"bounds\": {\n",
        "        \"x\": 0,\n",
        "        \"y\": 0,\n",
        "        \"width\": 1246,\n",
        "        \"height\": 834\n",
        "      },\n",
        "      \"action\": {\n",
        "        \"type\": \"postback\",\n",
        "        \"text\": \"All Jobs\",\n",
        "        \"data\": \"ALLJOBS\"\n",
        "      }\n",
        "    },\n",
        "    {\n",
        "      \"bounds\": {\n",
        "        \"x\": 1254,\n",
        "        \"y\": 0,\n",
        "        \"width\": 1246,\n",
        "        \"height\": 834\n",
        "      },\n",
        "      \"action\": {\n",
        "        \"type\": \"postback\",\n",
        "        \"text\": \"All Workers\",\n",
        "        \"data\": \"ALLWORKERS\"\n",
        "      }\n",
        "    },\n",
        "    {\n",
        "      \"bounds\": {\n",
        "        \"x\": 0,\n",
        "        \"y\": 852,\n",
        "        \"width\": 1246,\n",
        "        \"height\": 834\n",
        "      },\n",
        "      \"action\": {\n",
        "        \"type\": \"postback\",\n",
        "        \"text\": \"Set Notification\",\n",
        "        \"data\": \"SETNOTI\"\n",
        "      }\n",
        "    },\n",
        "    {\n",
        "      \"bounds\": {\n",
        "        \"x\": 1254,\n",
        "        \"y\": 852,\n",
        "        \"width\": 1246,\n",
        "        \"height\": 834\n",
        "      },\n",
        "      \"action\": {\n",
        "        \"type\": \"postback\",\n",
        "        \"text\": \"Setting\",\n",
        "        \"data\": \"SETTING\"\n",
        "      }\n",
        "    }\n",
        "  ]\n",
        "}"
      ],
      "execution_count": 0,
      "outputs": []
    },
    {
      "cell_type": "code",
      "metadata": {
        "id": "Hg1Dh4GSyRiF",
        "colab_type": "code",
        "colab": {}
      },
      "source": [
        "fileSize = str(os.stat(imagePath).st_size)\n",
        "fileType = imagePath[imagePath.index('.')+1:]"
      ],
      "execution_count": 0,
      "outputs": []
    },
    {
      "cell_type": "code",
      "metadata": {
        "id": "kr5EBIM9XoM7",
        "colab_type": "code",
        "colab": {}
      },
      "source": [
        "# Create a rich menu\n",
        "%%capture\n",
        "createRes = requests.post('https://api.line.me/v2/bot/richmenu', json=json, headers={'Authorization': 'Bearer ' + channelAccessToken})\n",
        "richMenuId = createRes.json()[\"richMenuId\"]\n",
        "!curl -v -X POST \"https://api.line.me/v2/bot/richmenu/$richMenuId/content\" -H \"Authorization: Bearer $channelAccessToken\" -H \"Content-Type: image/png\" -H \"Content-Length: $fileSize\" -T $imagePath"
      ],
      "execution_count": 0,
      "outputs": []
    },
    {
      "cell_type": "code",
      "metadata": {
        "id": "mRK8NIYa2qTo",
        "colab_type": "code",
        "colab": {
          "base_uri": "https://localhost:8080/",
          "height": 34
        },
        "outputId": "8f0a97c7-da4e-4cc9-b701-af614d6d86a0"
      },
      "source": [
        "print(richMenuId)"
      ],
      "execution_count": 29,
      "outputs": [
        {
          "output_type": "stream",
          "text": [
            "richmenu-670011e09efc12d3e44e572b8749d9fa\n"
          ],
          "name": "stdout"
        }
      ]
    },
    {
      "cell_type": "code",
      "metadata": {
        "id": "V0tgWlEj1euu",
        "colab_type": "code",
        "colab": {}
      },
      "source": [
        "# Set the default rich menu\n",
        "%%capture\n",
        "!curl -v -X POST \"https://api.line.me/v2/bot/user/all/richmenu/$richMenuId\" -H \"Authorization: Bearer $channelAccessToken\" -H \"Content-Length: 0\""
      ],
      "execution_count": 0,
      "outputs": []
    },
    {
      "cell_type": "code",
      "metadata": {
        "id": "9aXyo13A6PvO",
        "colab_type": "code",
        "colab": {
          "base_uri": "https://localhost:8080/",
          "height": 34
        },
        "outputId": "73f894ec-d0b7-43bc-f4db-3953f9240cfe"
      },
      "source": [
        "# Get a rich menu list\n",
        "createRes = requests.get('https://api.line.me/v2/bot/richmenu/list', headers={'Authorization': 'Bearer ' + channelAccessToken})\n",
        "res = createRes.json()['richmenus']\n",
        "for item in res:\n",
        "  print(\"name : {}, richMenuId : {}\".format(item['name'], item['richMenuId']))"
      ],
      "execution_count": 31,
      "outputs": [
        {
          "output_type": "stream",
          "text": [
            "name : JOB, richMenuId : richmenu-670011e09efc12d3e44e572b8749d9fa\n"
          ],
          "name": "stdout"
        }
      ]
    },
    {
      "cell_type": "code",
      "metadata": {
        "id": "7Ym4rPhw8w0o",
        "colab_type": "code",
        "colab": {
          "base_uri": "https://localhost:8080/",
          "height": 34
        },
        "outputId": "785bc485-42f3-4304-9d48-302f7f28efb7"
      },
      "source": [
        "# Delete a rich menu\n",
        "deleteRes = requests.delete('https://api.line.me/v2/bot/richmenu/richmenu-670011e09efc12d3e44e572b8749d9fa', headers={'Authorization': 'Bearer ' + channelAccessToken})\n",
        "if (deleteRes.text == {}):\n",
        "  print(\"DELETE COMPLETE!\")\n",
        "else:\n",
        "  print(deleteRes.text)"
      ],
      "execution_count": 38,
      "outputs": [
        {
          "output_type": "stream",
          "text": [
            "{\"message\":\"richmenu not found\",\"details\":[]}\n"
          ],
          "name": "stdout"
        }
      ]
    }
  ]
}